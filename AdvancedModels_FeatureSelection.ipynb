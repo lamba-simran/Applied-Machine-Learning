{
 "cells": [
  {
   "cell_type": "markdown",
   "metadata": {},
   "source": [
    "### Task 3 : Any Models"
   ]
  },
  {
   "cell_type": "code",
   "execution_count": 6,
   "metadata": {
    "collapsed": true
   },
   "outputs": [],
   "source": [
    "import pandas as pd\n",
    "from sklearn.model_selection import GridSearchCV\n",
    "from sklearn.tree import DecisionTreeRegressor\n",
    "from sklearn.ensemble import RandomForestRegressor, GradientBoostingRegressor\n",
    "\n",
    "x_train = pd.read_csv(\"hw3/x_train_scaled.csv\")\n",
    "y_train = pd.read_csv(\"hw3/y_train.csv\")\n",
    "x_test = pd.read_csv(\"hw3/x_test_scaled.csv\")\n",
    "y_test = pd.read_csv(\"hw3/y_test.csv\")\n",
    "\n",
    "additional_test_columns = [x for x in x_test.columns if x not in x_train.columns]\n",
    "additional_training_columns = test_columns = [x for x in x_train.columns if x not in x_test.columns]\n",
    "\n",
    "for column in additional_training_columns:\n",
    "    x_test[column] = 0\n",
    "for column in additional_test_columns:\n",
    "    x_train[column] = 0\n",
    "\n",
    "x_train = x_train.as_matrix()\n",
    "y_train = y_train.as_matrix()\n",
    "x_test = x_test.as_matrix()\n",
    "y_test = y_test.as_matrix()"
   ]
  },
  {
   "cell_type": "code",
   "execution_count": 7,
   "metadata": {},
   "outputs": [
    {
     "name": "stdout",
     "output_type": "stream",
     "text": [
      "{'max_depth': 9}\n",
      "0.990607822672\n",
      "0.814371874233\n"
     ]
    }
   ],
   "source": [
    "param_grid = {'max_depth': range(6, 15)}\n",
    "grid = GridSearchCV(DecisionTreeRegressor(random_state=0), param_grid=param_grid, cv=10)\n",
    "grid.fit(x_train, y_train)\n",
    "print(grid.best_params_)\n",
    "print(grid.best_score_)\n",
    "print(grid.score(x_test, y_test))"
   ]
  },
  {
   "cell_type": "code",
   "execution_count": 8,
   "metadata": {},
   "outputs": [
    {
     "name": "stdout",
     "output_type": "stream",
     "text": [
      "{'max_depth': 13}\n",
      "0.992392155946\n",
      "0.800493792305\n"
     ]
    }
   ],
   "source": [
    "param_grid = {'max_depth': range(6, 15)}\n",
    "grid = GridSearchCV(RandomForestRegressor(random_state=0), param_grid=param_grid, cv=10)\n",
    "grid.fit(x_train, y_train.ravel())\n",
    "print(grid.best_params_)\n",
    "print(grid.best_score_)\n",
    "print(grid.score(x_test, y_test.ravel()))"
   ]
  },
  {
   "cell_type": "code",
   "execution_count": 9,
   "metadata": {},
   "outputs": [
    {
     "name": "stdout",
     "output_type": "stream",
     "text": [
      "{'max_depth': 5, 'n_estimators': 180}\n",
      "0.992549863436\n",
      "0.843580053276\n"
     ]
    }
   ],
   "source": [
    "##  best param 5\n",
    "param_grid = {'max_depth': range(3, 6), 'n_estimators': range(100, 200, 20)}\n",
    "grid = GridSearchCV(GradientBoostingRegressor(random_state=0), param_grid=param_grid, cv=10)\n",
    "grid.fit(x_train, y_train.ravel())\n",
    "print(grid.best_params_)\n",
    "print(grid.best_score_)\n",
    "print(grid.score(x_test, y_test.ravel()))"
   ]
  },
  {
   "cell_type": "markdown",
   "metadata": {},
   "source": [
    "### Task 4 : Feature Selection"
   ]
  },
  {
   "cell_type": "code",
   "execution_count": 14,
   "metadata": {},
   "outputs": [
    {
     "data": {
      "text/plain": [
       "RFECV(cv=10,\n",
       "   estimator=GradientBoostingRegressor(alpha=0.9, criterion='friedman_mse', init=None,\n",
       "             learning_rate=0.1, loss='ls', max_depth=5, max_features=None,\n",
       "             max_leaf_nodes=None, min_impurity_decrease=0.0,\n",
       "             min_impurity_split=None, min_samples_leaf=1,\n",
       "             min_samples_split=2, min_weight_fraction_leaf=0.0,\n",
       "             n_estimators=180, presort='auto', random_state=None,\n",
       "             subsample=1.0, verbose=0, warm_start=False),\n",
       "   n_jobs=1, scoring=None, step=0.1, verbose=0)"
      ]
     },
     "execution_count": 14,
     "metadata": {},
     "output_type": "execute_result"
    }
   ],
   "source": [
    "from sklearn.feature_selection import RFECV\n",
    "\n",
    "rfe = RFECV(GradientBoostingRegressor(n_estimators=180, max_depth=5), step=0.1, cv=10)\n",
    "rfe.fit(x_train, y_train.ravel())"
   ]
  },
  {
   "cell_type": "code",
   "execution_count": 18,
   "metadata": {
    "collapsed": true
   },
   "outputs": [],
   "source": [
    "x_train = pd.read_csv(\"hw3/x_train_scaled.csv\")\n",
    "y_train = pd.read_csv(\"hw3/y_train.csv\")\n",
    "x_test = pd.read_csv(\"hw3/x_test_scaled.csv\")\n",
    "y_test = pd.read_csv(\"hw3/y_test.csv\")\n",
    "\n",
    "additional_test_columns = [x for x in x_test.columns if x not in x_train.columns]\n",
    "additional_training_columns = test_columns = [x for x in x_train.columns if x not in x_test.columns]\n",
    "\n",
    "for column in additional_training_columns:\n",
    "    x_test[column] = 0\n",
    "for column in additional_test_columns:\n",
    "    x_train[column] = 0"
   ]
  },
  {
   "cell_type": "code",
   "execution_count": 26,
   "metadata": {
    "collapsed": true
   },
   "outputs": [],
   "source": [
    "selected_columns = x_train.columns[rfe.support_]\n",
    "x_train_selected = x_train[selected_columns]\n",
    "x_test_selected = x_test[selected_columns]\n",
    "\n",
    "x_train_selected = x_train_selected.as_matrix()\n",
    "y_train = y_train.as_matrix()\n",
    "x_test_selected = x_test_selected.as_matrix()\n",
    "y_test = y_test.as_matrix()"
   ]
  },
  {
   "cell_type": "code",
   "execution_count": 27,
   "metadata": {},
   "outputs": [
    {
     "name": "stdout",
     "output_type": "stream",
     "text": [
      "{'max_depth': 5, 'n_estimators': 180}\n",
      "0.992349395999\n",
      "0.981689329017\n"
     ]
    }
   ],
   "source": [
    "param_grid = {'max_depth': range(3, 6), 'n_estimators': range(100, 200, 20)}\n",
    "grid = GridSearchCV(GradientBoostingRegressor(random_state=0), param_grid=param_grid, cv=10)\n",
    "grid.fit(x_train_selected, y_train.ravel())\n",
    "print(grid.best_params_)\n",
    "print(grid.best_score_)\n",
    "print(grid.score(x_test_selected, y_test.ravel()))"
   ]
  },
  {
   "cell_type": "code",
   "execution_count": null,
   "metadata": {
    "collapsed": true
   },
   "outputs": [],
   "source": []
  }
 ],
 "metadata": {
  "kernelspec": {
   "display_name": "Python 3",
   "language": "python",
   "name": "python3"
  },
  "language_info": {
   "codemirror_mode": {
    "name": "ipython",
    "version": 3
   },
   "file_extension": ".py",
   "mimetype": "text/x-python",
   "name": "python",
   "nbconvert_exporter": "python",
   "pygments_lexer": "ipython3",
   "version": "3.6.3"
  }
 },
 "nbformat": 4,
 "nbformat_minor": 1
}
